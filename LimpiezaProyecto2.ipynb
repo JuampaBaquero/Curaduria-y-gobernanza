{
  "nbformat": 4,
  "nbformat_minor": 0,
  "metadata": {
    "colab": {
      "provenance": []
    },
    "kernelspec": {
      "name": "python3",
      "display_name": "Python 3"
    },
    "language_info": {
      "name": "python"
    }
  },
  "cells": [
    {
      "cell_type": "markdown",
      "source": [
        "#LIMPIEZA PROYECTO GOBERNANZA DE DATOS\n",
        "\n",
        "##Trabajo realizado por:\n",
        "* Juan Pablo Baquero Velandia\n",
        "* David Alejandro Dávila Guaranguay\n",
        "\n",
        "#### NOTA: Este trabajo NO está relacionada a la Biblioteca de la PUJ.\n",
        "Trabajamos con base en un registro de bibliotecas de Estados Unidos, que da un resumen de la información de entradas y salidas respecto de dinero, recursos, impuestos, etc.\n",
        "\n",
        "La pregunta que nos va a orientar para hacer el trabajo es acerca de las dimensiones de los datos vistas en clase, para dar métricas y curar los datos para que estas suban.\n",
        "\n",
        "Para hallar los datos, visitar: [BIBLIOTECAS EE.UU.](https://catalog.data.gov/dataset/public-libraries-b1aaf#:~:text=,File%20CSV)"
      ],
      "metadata": {
        "id": "UIK_3mIElCJV"
      }
    },
    {
      "cell_type": "code",
      "source": [
        "#Importo las librerías principales para curación de datos\n",
        "\n",
        "import pandas as pd\n",
        "import numpy as np\n",
        "import os"
      ],
      "metadata": {
        "id": "Oclk2xoAsSUS"
      },
      "execution_count": 63,
      "outputs": []
    },
    {
      "cell_type": "code",
      "source": [
        "#Importar el archivo y leerlo\n",
        "df = pd.read_csv(\"/content/Public_Libraries.csv\", sep = ',')\n",
        "print(df)"
      ],
      "metadata": {
        "colab": {
          "base_uri": "https://localhost:8080/"
        },
        "id": "ICpjzHvEvorA",
        "outputId": "c4e0449f-91e1-45fb-8791-251986153eda"
      },
      "execution_count": 64,
      "outputs": [
        {
          "output_type": "stream",
          "name": "stdout",
          "text": [
            "      Fiscal Year              Library      County  AENGLC Rank  \\\n",
            "0            1996              Andover     Tolland        109.0   \n",
            "1            1996              Ansonia   New Haven        158.0   \n",
            "2            1996      Ashford-Babcock     Windham        131.0   \n",
            "3            1996                 Avon    Hartford         19.0   \n",
            "4            1996         Beacon Falls   New Haven        129.0   \n",
            "...           ...                  ...         ...          ...   \n",
            "5273         2024           Woodbridge   New Haven         34.0   \n",
            "5274         2024             Woodbury  Litchfield         43.0   \n",
            "5275         2024  Woodstock - Bracken     Windham         90.0   \n",
            "5276         2024      Woodstock - May     Windham         80.0   \n",
            "5277         2024     Woodstock - West     Windham         90.0   \n",
            "\n",
            "      Population of Service Area  Total Library Visits  \\\n",
            "0                         2815.0               15000.0   \n",
            "1                        17825.0               91756.0   \n",
            "2                         3969.0                8665.0   \n",
            "3                        14143.0              162893.0   \n",
            "4                         5351.0                7000.0   \n",
            "...                          ...                   ...   \n",
            "5273                      9021.0               67274.0   \n",
            "5274                      9862.0               70917.0   \n",
            "5275                      8346.0                5400.0   \n",
            "5276                      8346.0                1449.0   \n",
            "5277                      8346.0                3324.0   \n",
            "\n",
            "      Library Visits Per Capita Served  Total Registered Borrowers  \\\n",
            "0                                  5.3                      1313.0   \n",
            "1                                  5.1                      6952.0   \n",
            "2                                  2.2                      1360.0   \n",
            "3                                 11.5                      8808.0   \n",
            "4                                  1.3                      1379.0   \n",
            "...                                ...                         ...   \n",
            "5273                               7.5                      3852.0   \n",
            "5274                               7.2                      4275.0   \n",
            "5275                               0.6                      3801.0   \n",
            "5276                               0.2                       620.0   \n",
            "5277                               0.4                       749.0   \n",
            "\n",
            "      Percent of Residents with Library Cards  Reference Questions  ...  \\\n",
            "0                                        0.47                499.0  ...   \n",
            "1                                        0.39                  NaN  ...   \n",
            "2                                        0.34                207.0  ...   \n",
            "3                                        0.62              15283.0  ...   \n",
            "4                                        0.26                400.0  ...   \n",
            "...                                       ...                  ...  ...   \n",
            "5273                                     0.43               5285.0  ...   \n",
            "5274                                     0.43               6872.0  ...   \n",
            "5275                                     0.46               2000.0  ...   \n",
            "5276                                     0.07                  NaN  ...   \n",
            "5277                                     0.09                120.0  ...   \n",
            "\n",
            "      Total Collection  Collection Per Capita Served  Total Operating Income  \\\n",
            "0              15285.0                          5.40                 56300.0   \n",
            "1              63685.0                          3.60                320679.0   \n",
            "2              23818.0                          6.00                111699.0   \n",
            "3              74903.0                          5.30                685678.0   \n",
            "4              10042.0                          1.90                 40806.0   \n",
            "...                ...                           ...                     ...   \n",
            "5273           76882.0                          8.52                877068.0   \n",
            "5274           96297.0                          9.76                794591.0   \n",
            "5275           14056.0                          1.68                 16742.0   \n",
            "5276            9783.0                          1.17                 70655.0   \n",
            "5277            9145.0                          1.10                 56202.0   \n",
            "\n",
            "      Operating Income Per Capita  Town Tax Appropriation for Library  \\\n",
            "0                           20.00                             52915.0   \n",
            "1                           17.99                            323503.0   \n",
            "2                           28.14                            106713.0   \n",
            "3                           48.48                            602831.0   \n",
            "4                            7.63                             39256.0   \n",
            "...                           ...                                 ...   \n",
            "5273                        97.23                            839893.0   \n",
            "5274                        80.57                            700759.0   \n",
            "5275                         2.01                             15300.0   \n",
            "5276                         8.47                             39574.0   \n",
            "5277                         6.73                             38896.0   \n",
            "\n",
            "      Tax Appropriation Per Capita Served  Library Materials Expenditures  \\\n",
            "0                                   18.80                         10073.0   \n",
            "1                                   18.15                         45874.0   \n",
            "2                                   26.89                         11508.0   \n",
            "3                                   42.62                         92711.0   \n",
            "4                                    7.34                          4298.0   \n",
            "...                                   ...                             ...   \n",
            "5273                                93.10                         11449.0   \n",
            "5274                                71.06                          8636.0   \n",
            "5275                                 1.83                           775.0   \n",
            "5276                                 4.74                             0.0   \n",
            "5277                                 4.66                          2600.0   \n",
            "\n",
            "      Wages & Salaries Expenditures  Operating Expenditures  \\\n",
            "0                           30996.0                 44290.0   \n",
            "1                          201621.0                270658.0   \n",
            "2                           62295.0                 82769.0   \n",
            "3                          340400.0                516583.0   \n",
            "4                           21585.0                 39165.0   \n",
            "...                             ...                     ...   \n",
            "5273                       596435.0               1093638.0   \n",
            "5274                       490580.0                709762.0   \n",
            "5275                         6216.0                 14388.0   \n",
            "5276                        15836.0                 28587.0   \n",
            "5277                        15644.0                 35794.0   \n",
            "\n",
            "      Operating Expenditures Per Capita  \n",
            "0                                 15.70  \n",
            "1                                 15.20  \n",
            "2                                 20.90  \n",
            "3                                 36.50  \n",
            "4                                  7.30  \n",
            "...                                 ...  \n",
            "5273                             121.23  \n",
            "5274                              71.97  \n",
            "5275                               1.72  \n",
            "5276                               3.43  \n",
            "5277                               4.29  \n",
            "\n",
            "[5278 rows x 27 columns]\n"
          ]
        }
      ]
    },
    {
      "cell_type": "markdown",
      "source": [
        "La página nos proporciona un pequeño diccionario:\n",
        "\n",
        "* LIBRARY VISITS: Incluye la entrada de todas las personas a la biblioteca, independientemente de su propósito.\n",
        "* CIRCULATION: Tiene información sobre cualquier material que salga de la biblioteca, incluyendo renovaciones.\n",
        "* REGISTERED BORROWERS: Son los residentes de un municipio con membresía a la biblioteca.\n",
        "* REFERENCE QUESTIONS: Habla sobre las interacciones que tiene el personal de la biblioteca con sus usuarios. Recomendaciones, ayuda, etc.\n",
        "* TOWN TAX APPROPRIATION: Son los fondos dados por el municipio a esa sede de biblioteca.\n",
        "* AENLGC: Es una métrica basada en los ingresos que tiene un municipio\n"
      ],
      "metadata": {
        "id": "7hOQCt_BwJr4"
      }
    },
    {
      "cell_type": "markdown",
      "source": [
        "#EXPLORACIÓN DE LOS DATOS Y SUS DIMENSIONES\n",
        "\n",
        "## 1. INTEGRIDAD (Y UNICIDAD)\n",
        "### ¿Los datos están completos?\n",
        "### -> Borrar duplicados\n",
        "- - -"
      ],
      "metadata": {
        "id": "OnHBQTFHqq-7"
      }
    },
    {
      "cell_type": "code",
      "execution_count": 65,
      "metadata": {
        "colab": {
          "base_uri": "https://localhost:8080/"
        },
        "id": "giTypjzFk6Xa",
        "outputId": "bc1d2f35-8ed4-4a06-c94a-8541660894dc"
      },
      "outputs": [
        {
          "output_type": "stream",
          "name": "stdout",
          "text": [
            "La cantidad de datos nulos que hay por columna son:\n",
            " Fiscal Year                                              0\n",
            "Library                                                  0\n",
            "County                                                   0\n",
            "AENGLC Rank                                            117\n",
            "Population of Service Area                             464\n",
            "Total Library Visits                                   219\n",
            "Library Visits Per Capita Served                       235\n",
            "Total Registered Borrowers                             105\n",
            "Percent of Residents with Library Cards                119\n",
            "Reference Questions                                    404\n",
            "Reference Questions Per Capita Served                  433\n",
            "Total Circulation                                       53\n",
            "Circulation Per Capita Served                           70\n",
            "Total Programs (Synchronous + Prerecorded)             168\n",
            "Total Program Attendance & Views                       191\n",
            "Total Program Attendance & Views Per Capita Served     213\n",
            "Use of Public Internet Computers                      1921\n",
            "Total Collection                                        77\n",
            "Collection Per Capita Served                           128\n",
            "Total Operating Income                                  63\n",
            "Operating Income Per Capita                            107\n",
            "Town Tax Appropriation for Library                      73\n",
            "Tax Appropriation Per Capita Served                    118\n",
            "Library Materials Expenditures                          83\n",
            "Wages & Salaries Expenditures                          154\n",
            "Operating Expenditures                                  67\n",
            "Operating Expenditures Per Capita                       98\n",
            "dtype: int64\n"
          ]
        }
      ],
      "source": [
        "# Comencemos por sumar los datos que estén vacíos\n",
        "\n",
        "df = df.drop_duplicates() # De una vez borramos duplicados\n",
        "\n",
        "vacios = df.isnull().sum()\n",
        "print(\"La cantidad de datos nulos que hay por columna son:\\n\", vacios)\n",
        "\n",
        "# De paso puedo saber los nombres de las columnas\n"
      ]
    },
    {
      "cell_type": "markdown",
      "source": [
        "##### Dandole un vistazo a los registros vacíos, podemos darnos cuenta que todos los datos faltantes sonde tipo entero.\n",
        "##### Además, los que más faltan son el Uso de internet público, ya que los registros están desde 1996, donde las bibliotecas no normalizaban el uso de internet, además que era caro implementarlo."
      ],
      "metadata": {
        "id": "YknZb9pa0DXH"
      }
    },
    {
      "cell_type": "code",
      "source": [
        "#CURACIÓN PROPUESTA\n",
        "\n",
        "# Aunque sean relevantes, vamos a descartar las columnas de x (per cápita)\n",
        "# También descartaremos la población objetivo y el acceso a internet.\n",
        "\n",
        "print(df.shape)\n",
        "\n",
        "cols_borrar = ['Library Visits Per Capita Served',\n",
        "               'Reference Questions Per Capita Served',\n",
        "               'Circulation Per Capita Served',\n",
        "               'Total Program Attendance & Views Per Capita Served',\n",
        "               'Use of Public Internet Computers',\n",
        "               'Collection Per Capita Served',\n",
        "               'Operating Income Per Capita',\n",
        "               'Library Materials Expenditures']\n",
        "# Esto me dió un error de media hora 😭\n",
        "\n",
        "# Borraremos aquellos registros con más del 20% de la información faltante\n",
        "# Es un filtro algo fuerte, pero da cuenta de\n",
        "\n",
        "df = df.dropna(thresh = int(df.shape[1] * 0.8))\n",
        "\n",
        "df = df.drop(columns = cols_borrar, errors='ignore')\n",
        "\n",
        "print(\"Las columnas que quedan son:\\n\", df.columns.to_list())\n",
        "\n",
        "print(df.shape)"
      ],
      "metadata": {
        "colab": {
          "base_uri": "https://localhost:8080/"
        },
        "id": "71MQrNLA0zdu",
        "outputId": "42146d58-8031-4631-a53e-b47c67add037"
      },
      "execution_count": 66,
      "outputs": [
        {
          "output_type": "stream",
          "name": "stdout",
          "text": [
            "(5278, 27)\n",
            "Las columnas que quedan son:\n",
            " ['Fiscal Year', 'Library', 'County', 'AENGLC Rank', 'Population of Service Area', 'Total Library Visits', 'Total Registered Borrowers', 'Percent of Residents with Library Cards', 'Reference Questions', 'Total Circulation', 'Total Programs (Synchronous + Prerecorded)', 'Total Program Attendance & Views', 'Total Collection', 'Total Operating Income', 'Town Tax Appropriation for Library', 'Tax Appropriation Per Capita Served', 'Wages & Salaries Expenditures', 'Operating Expenditures', 'Operating Expenditures Per Capita']\n",
            "(5133, 19)\n"
          ]
        }
      ]
    },
    {
      "cell_type": "markdown",
      "source": [
        "- - -\n",
        "## 2. PUNTUALIDAD Y UNIFORMIDAD\n",
        "\n",
        "#### En este caso, los datos están accesibles de forma sencilla y rápida, porque son relativamente pocos registros.\n",
        "\n",
        "#### Por parte de la uniformidad, no hay ningún conflicto, ya que el dataframe es todo de tipo entero y se puede verificar facilmente que no tiene errores de ortografía en las casillas de strings o cosas por el estilo.\n",
        "- - -"
      ],
      "metadata": {
        "id": "5rzrYwTHBJ9g"
      }
    },
    {
      "cell_type": "markdown",
      "source": [
        "## 3. VALIDEZ\n",
        "\n",
        "### Vamos a revisar el formato de los datos y su rango\n",
        "- - -"
      ],
      "metadata": {
        "id": "s-w6x8_WBeCZ"
      }
    },
    {
      "cell_type": "code",
      "source": [
        "num_cols = df.select_dtypes(include=['int64', 'float64']).columns\n",
        "num_cols"
      ],
      "metadata": {
        "colab": {
          "base_uri": "https://localhost:8080/"
        },
        "id": "bJB6IxhrBlo4",
        "outputId": "47a08d29-3e14-457c-dd7d-767874048f0f"
      },
      "execution_count": 67,
      "outputs": [
        {
          "output_type": "execute_result",
          "data": {
            "text/plain": [
              "Index(['Fiscal Year', 'AENGLC Rank', 'Population of Service Area',\n",
              "       'Total Library Visits', 'Total Registered Borrowers',\n",
              "       'Percent of Residents with Library Cards', 'Reference Questions',\n",
              "       'Total Circulation', 'Total Programs (Synchronous + Prerecorded)',\n",
              "       'Total Program Attendance & Views', 'Total Collection',\n",
              "       'Total Operating Income', 'Town Tax Appropriation for Library',\n",
              "       'Tax Appropriation Per Capita Served', 'Wages & Salaries Expenditures',\n",
              "       'Operating Expenditures', 'Operating Expenditures Per Capita'],\n",
              "      dtype='object')"
            ]
          },
          "metadata": {},
          "execution_count": 67
        }
      ]
    },
    {
      "cell_type": "markdown",
      "source": [
        "####Como podemos ver, todas menos las primeras son de tipo numérico"
      ],
      "metadata": {
        "id": "kNCDjN8oSVr6"
      }
    },
    {
      "cell_type": "markdown",
      "source": [
        "##  4. EXACTITUD\n",
        "### La idea ahora es rellenar los datos faltantes con la mediana, que es un proceso muy sencillo pero eficaz"
      ],
      "metadata": {
        "id": "8krqwYl2UMgB"
      }
    },
    {
      "cell_type": "code",
      "source": [
        "# Vamos a reemplazar los faltantes por la mediana\n",
        "# Uso el mismo método que la vez pasada\n",
        "\n",
        "for col in num_cols:\n",
        "    Q1 = df[col].quantile(0.25)\n",
        "    Q3 = df[col].quantile(0.75)\n",
        "    IQR = Q3 - Q1\n",
        "    limite_inferior = Q1 - 1.5 * IQR\n",
        "    limite_superior = Q3 + 1.5 * IQR\n",
        "\n",
        "    mediana = df[col].median()\n",
        "    df[col] = df[col].apply(lambda x: mediana if x < limite_inferior or x > limite_superior else x)\n",
        "\n",
        "print(\"Outliers reemplazados correctamente con la mediana.\")"
      ],
      "metadata": {
        "colab": {
          "base_uri": "https://localhost:8080/"
        },
        "id": "k88Aaw7SSafh",
        "outputId": "7bdce85c-e210-477d-8f54-305b3d92112f"
      },
      "execution_count": 68,
      "outputs": [
        {
          "output_type": "stream",
          "name": "stdout",
          "text": [
            "Outliers reemplazados correctamente con la mediana.\n"
          ]
        }
      ]
    },
    {
      "cell_type": "markdown",
      "source": [
        "# CREACIÓN DE MÉTRICAS SOBRE EL DATASET\n",
        "\n",
        "\n",
        "\n",
        "> Funciones/columnas creadas con ayuda de ChatGPT.\n",
        "\n",
        "> Autores del resto del código: Juan Pablo y David Alejandro\n",
        "\n",
        "> Fecha: 20-10-2025\n",
        "\n",
        "> Propósito: Métricas para análisis exploratorio de bibliotecas.\n",
        "\n",
        "\n",
        "\n"
      ],
      "metadata": {
        "id": "jaw3rj1cYXP4"
      }
    },
    {
      "cell_type": "code",
      "source": [
        "# =============================================\n",
        "# Cálculos de métricas y nuevas columnas\n",
        "# Generado con ayuda de ChatGPT\n",
        "# =============================================\n",
        "\n",
        "df['Visits_per_Borrower'] = df['Total Library Visits'] / df['Total Registered Borrowers']\n",
        "df['References_per_Borrower'] = df['Reference Questions'] / df['Total Registered Borrowers']\n",
        "df['Population_Group'] = pd.cut(\n",
        "    df['Population of Service Area'],\n",
        "    bins=[0, 10000, 50000, 200000, 1000000],\n",
        "    labels=['Pequeña', 'Mediana', 'Grande', 'Muy Grande']\n",
        ")\n",
        "df['Log_Population'] = np.log1p(df['Population of Service Area'])\n",
        "df['Program_Attendance_per_Capita'] = df['Total Program Attendance & Views'] / df['Population of Service Area']\n"
      ],
      "metadata": {
        "id": "SWwB2Py6ZpCA"
      },
      "execution_count": 69,
      "outputs": []
    },
    {
      "cell_type": "markdown",
      "source": [
        "#RESUMEN"
      ],
      "metadata": {
        "id": "dtHFyRLOa2qo"
      }
    },
    {
      "cell_type": "code",
      "source": [
        "print(\"Filas y columnas:\", df.shape)\n",
        "print(df.head()) # Una muestra\n",
        "print(df.dtypes) # Revisar los tipos de datos\n",
        "print(df.isna().sum()) # Revisar nulos\n",
        "\n",
        "# Revisamos consistencia de las nuevas columnas agregadas\n",
        "print(df['Visits_per_Borrower'].describe())\n",
        "print(df['Population_Group'].value_counts())\n",
        "\n"
      ],
      "metadata": {
        "colab": {
          "base_uri": "https://localhost:8080/"
        },
        "id": "cYA1yMCTa1he",
        "outputId": "357dc009-932a-492d-c42e-515a9255d52f"
      },
      "execution_count": 70,
      "outputs": [
        {
          "output_type": "stream",
          "name": "stdout",
          "text": [
            "Filas y columnas: (5133, 24)\n",
            "   Fiscal Year          Library     County  AENGLC Rank  \\\n",
            "0         1996          Andover    Tolland        109.0   \n",
            "1         1996          Ansonia  New Haven        158.0   \n",
            "2         1996  Ashford-Babcock    Windham        131.0   \n",
            "3         1996             Avon   Hartford         19.0   \n",
            "4         1996     Beacon Falls  New Haven        129.0   \n",
            "\n",
            "   Population of Service Area  Total Library Visits  \\\n",
            "0                      2815.0               15000.0   \n",
            "1                     17825.0               91756.0   \n",
            "2                      3969.0                8665.0   \n",
            "3                     14143.0              162893.0   \n",
            "4                      5351.0                7000.0   \n",
            "\n",
            "   Total Registered Borrowers  Percent of Residents with Library Cards  \\\n",
            "0                      1313.0                                     0.47   \n",
            "1                      6952.0                                     0.39   \n",
            "2                      1360.0                                     0.34   \n",
            "3                      8808.0                                     0.62   \n",
            "4                      1379.0                                     0.26   \n",
            "\n",
            "   Reference Questions  Total Circulation  ...  \\\n",
            "0                499.0            17028.0  ...   \n",
            "1                  NaN            71301.0  ...   \n",
            "2                207.0            34574.0  ...   \n",
            "3              15283.0           226137.0  ...   \n",
            "4                400.0             8880.0  ...   \n",
            "\n",
            "   Town Tax Appropriation for Library  Tax Appropriation Per Capita Served  \\\n",
            "0                             52915.0                                18.80   \n",
            "1                            323503.0                                18.15   \n",
            "2                            106713.0                                26.89   \n",
            "3                            602831.0                                42.62   \n",
            "4                             39256.0                                 7.34   \n",
            "\n",
            "   Wages & Salaries Expenditures  Operating Expenditures  \\\n",
            "0                        30996.0                 44290.0   \n",
            "1                       201621.0                270658.0   \n",
            "2                        62295.0                 82769.0   \n",
            "3                       340400.0                516583.0   \n",
            "4                        21585.0                 39165.0   \n",
            "\n",
            "   Operating Expenditures Per Capita  Visits_per_Borrower  \\\n",
            "0                               15.7            11.424219   \n",
            "1                               15.2            13.198504   \n",
            "2                               20.9             6.371324   \n",
            "3                               36.5            18.493756   \n",
            "4                                7.3             5.076142   \n",
            "\n",
            "   References_per_Borrower  Population_Group  Log_Population  \\\n",
            "0                 0.380046           Pequeña        7.943073   \n",
            "1                      NaN           Mediana        9.788413   \n",
            "2                 0.152206           Pequeña        8.286521   \n",
            "3                 1.735127           Mediana        9.557046   \n",
            "4                 0.290065           Pequeña        8.585226   \n",
            "\n",
            "   Program_Attendance_per_Capita  \n",
            "0                       0.305506  \n",
            "1                       0.253857  \n",
            "2                       0.196523  \n",
            "3                       0.671781  \n",
            "4                       0.041674  \n",
            "\n",
            "[5 rows x 24 columns]\n",
            "Fiscal Year                                      int64\n",
            "Library                                         object\n",
            "County                                          object\n",
            "AENGLC Rank                                    float64\n",
            "Population of Service Area                     float64\n",
            "Total Library Visits                           float64\n",
            "Total Registered Borrowers                     float64\n",
            "Percent of Residents with Library Cards        float64\n",
            "Reference Questions                            float64\n",
            "Total Circulation                              float64\n",
            "Total Programs (Synchronous + Prerecorded)     float64\n",
            "Total Program Attendance & Views               float64\n",
            "Total Collection                               float64\n",
            "Total Operating Income                         float64\n",
            "Town Tax Appropriation for Library             float64\n",
            "Tax Appropriation Per Capita Served            float64\n",
            "Wages & Salaries Expenditures                  float64\n",
            "Operating Expenditures                         float64\n",
            "Operating Expenditures Per Capita              float64\n",
            "Visits_per_Borrower                            float64\n",
            "References_per_Borrower                        float64\n",
            "Population_Group                              category\n",
            "Log_Population                                 float64\n",
            "Program_Attendance_per_Capita                  float64\n",
            "dtype: object\n",
            "Fiscal Year                                     0\n",
            "Library                                         0\n",
            "County                                          0\n",
            "AENGLC Rank                                    40\n",
            "Population of Service Area                    348\n",
            "Total Library Visits                          141\n",
            "Total Registered Borrowers                     33\n",
            "Percent of Residents with Library Cards        32\n",
            "Reference Questions                           299\n",
            "Total Circulation                               1\n",
            "Total Programs (Synchronous + Prerecorded)     77\n",
            "Total Program Attendance & Views               91\n",
            "Total Collection                               12\n",
            "Total Operating Income                          1\n",
            "Town Tax Appropriation for Library             10\n",
            "Tax Appropriation Per Capita Served            35\n",
            "Wages & Salaries Expenditures                  64\n",
            "Operating Expenditures                          1\n",
            "Operating Expenditures Per Capita              24\n",
            "Visits_per_Borrower                           182\n",
            "References_per_Borrower                       343\n",
            "Population_Group                              348\n",
            "Log_Population                                348\n",
            "Program_Attendance_per_Capita                 420\n",
            "dtype: int64\n",
            "count    4951.000000\n",
            "mean       12.331837\n",
            "std         9.313690\n",
            "min         0.072150\n",
            "25%         6.008247\n",
            "50%        10.700817\n",
            "75%        15.810560\n",
            "max        79.365079\n",
            "Name: Visits_per_Borrower, dtype: float64\n",
            "Population_Group\n",
            "Mediana       2677\n",
            "Pequeña       2004\n",
            "Grande         104\n",
            "Muy Grande       0\n",
            "Name: count, dtype: int64\n"
          ]
        }
      ]
    },
    {
      "cell_type": "code",
      "source": [
        "#GUARDADO DEL ARCHIVO LIMPIO\n",
        "df.columns = df.columns.str.replace(' ', '_')  # Reemplaza espacios por '_', para que se guarde bien\n",
        "\n",
        "df.to_csv(\"DataSetLimpio.csv\", index = False)\n",
        "\n",
        "print(\"DataSetLimpio.csv creado exitosamente!!\")"
      ],
      "metadata": {
        "colab": {
          "base_uri": "https://localhost:8080/"
        },
        "id": "JLorUadybmXY",
        "outputId": "b4b5fa8a-ca01-4c40-a7fc-08fede4de4eb"
      },
      "execution_count": 71,
      "outputs": [
        {
          "output_type": "stream",
          "name": "stdout",
          "text": [
            "DataSetLimpio.csv creado exitosamente!!\n"
          ]
        }
      ]
    }
  ]
}